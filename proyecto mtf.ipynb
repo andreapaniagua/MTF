{
 "cells": [
  {
   "cell_type": "markdown",
   "id": "53cb1e48",
   "metadata": {},
   "source": [
    "# Proyecto MTF"
   ]
  },
  {
   "cell_type": "markdown",
   "id": "25102769",
   "metadata": {},
   "source": [
    "Andrea Paniagua   \n",
    "Carné 18733"
   ]
  },
  {
   "cell_type": "markdown",
   "id": "570f5502",
   "metadata": {},
   "source": [
    "a. Calcular el costo de acceso utilizando el algoritmo MTF para; Lista de configuración:0, 1, 2, 3, 4 \n",
    "Secuencia de solicitudes:0, 1, 2, 3, 4,0, 1, 2, 3, 4, 0, 1, 2, 3, 4, 0, 1, 2, 3, 4"
   ]
  },
  {
   "cell_type": "code",
   "execution_count": 6,
   "id": "74160548",
   "metadata": {},
   "outputs": [
    {
     "name": "stdout",
     "output_type": "stream",
     "text": [
      "Configuracion inicial:  [0, 1, 2, 3, 4]\n",
      "Solicitud:  0 Costo:  1 Configuracion final:  [0, 1, 2, 3, 4]\n",
      "Configuracion inicial:  [0, 1, 2, 3, 4]\n",
      "Solicitud:  1 Costo:  2 Configuracion final:  [1, 0, 2, 3, 4]\n",
      "Configuracion inicial:  [1, 0, 2, 3, 4]\n",
      "Solicitud:  2 Costo:  3 Configuracion final:  [2, 1, 0, 3, 4]\n",
      "Configuracion inicial:  [2, 1, 0, 3, 4]\n",
      "Solicitud:  3 Costo:  4 Configuracion final:  [3, 2, 1, 0, 4]\n",
      "Configuracion inicial:  [3, 2, 1, 0, 4]\n",
      "Solicitud:  4 Costo:  5 Configuracion final:  [4, 3, 2, 1, 0]\n",
      "Configuracion inicial:  [4, 3, 2, 1, 0]\n",
      "Solicitud:  0 Costo:  5 Configuracion final:  [0, 4, 3, 2, 1]\n",
      "Configuracion inicial:  [0, 4, 3, 2, 1]\n",
      "Solicitud:  1 Costo:  5 Configuracion final:  [1, 0, 4, 3, 2]\n",
      "Configuracion inicial:  [1, 0, 4, 3, 2]\n",
      "Solicitud:  2 Costo:  5 Configuracion final:  [2, 1, 0, 4, 3]\n",
      "Configuracion inicial:  [2, 1, 0, 4, 3]\n",
      "Solicitud:  3 Costo:  5 Configuracion final:  [3, 2, 1, 0, 4]\n",
      "Configuracion inicial:  [3, 2, 1, 0, 4]\n",
      "Solicitud:  4 Costo:  5 Configuracion final:  [4, 3, 2, 1, 0]\n",
      "Configuracion inicial:  [4, 3, 2, 1, 0]\n",
      "Solicitud:  0 Costo:  5 Configuracion final:  [0, 4, 3, 2, 1]\n",
      "Configuracion inicial:  [0, 4, 3, 2, 1]\n",
      "Solicitud:  1 Costo:  5 Configuracion final:  [1, 0, 4, 3, 2]\n",
      "Configuracion inicial:  [1, 0, 4, 3, 2]\n",
      "Solicitud:  2 Costo:  5 Configuracion final:  [2, 1, 0, 4, 3]\n",
      "Configuracion inicial:  [2, 1, 0, 4, 3]\n",
      "Solicitud:  3 Costo:  5 Configuracion final:  [3, 2, 1, 0, 4]\n",
      "Configuracion inicial:  [3, 2, 1, 0, 4]\n",
      "Solicitud:  4 Costo:  5 Configuracion final:  [4, 3, 2, 1, 0]\n",
      "Configuracion inicial:  [4, 3, 2, 1, 0]\n",
      "Solicitud:  0 Costo:  5 Configuracion final:  [0, 4, 3, 2, 1]\n",
      "Configuracion inicial:  [0, 4, 3, 2, 1]\n",
      "Solicitud:  1 Costo:  5 Configuracion final:  [1, 0, 4, 3, 2]\n",
      "Configuracion inicial:  [1, 0, 4, 3, 2]\n",
      "Solicitud:  2 Costo:  5 Configuracion final:  [2, 1, 0, 4, 3]\n",
      "Configuracion inicial:  [2, 1, 0, 4, 3]\n",
      "Solicitud:  3 Costo:  5 Configuracion final:  [3, 2, 1, 0, 4]\n",
      "Configuracion inicial:  [3, 2, 1, 0, 4]\n",
      "Solicitud:  4 Costo:  5 Configuracion final:  [4, 3, 2, 1, 0]\n",
      "Costo total:  90\n"
     ]
    }
   ],
   "source": [
    "tabla= [0, 1, 2, 3, 4]\n",
    "seq= [0, 1, 2, 3, 4, 0, 1, 2, 3, 4, 0, 1, 2, 3, 4, 0, 1, 2, 3, 4]\n",
    "n= []\n",
    "\n",
    "def MTF(listTabla,listSeq):\n",
    "  for i in listSeq:\n",
    "    print(\"Configuracion inicial: \", tabla)\n",
    "    x = tabla.index(i)\n",
    "    tabla.insert(0, tabla.pop(x))\n",
    "    y = x + 1\n",
    "    n.append(y)\n",
    "    print(\"Solicitud: \", i, \"Costo: \", y, \"Configuracion final: \", tabla)\n",
    "MTF(tabla,seq)\n",
    "print(\"Costo total: \", sum(n))"
   ]
  },
  {
   "cell_type": "markdown",
   "id": "cbd3627d",
   "metadata": {},
   "source": [
    "b. Calcular el costo de acceso utilizando el algoritmo MTF para; Listade configuración:0, 1, 2, 3, 4.Secuencia de solicitudes:4, 3, 2, 1, 0, 1, 2, 3, 4, 3, 2, 1, 0, 1, 2, 3, 4"
   ]
  },
  {
   "cell_type": "code",
   "execution_count": 7,
   "id": "ddcee9cd",
   "metadata": {},
   "outputs": [
    {
     "name": "stdout",
     "output_type": "stream",
     "text": [
      "Configuracion inicial:  [0, 1, 2, 3, 4]\n",
      "Solicitud:  4 Costo:  5 Configuracion final:  [4, 0, 1, 2, 3]\n",
      "Configuracion inicial:  [4, 0, 1, 2, 3]\n",
      "Solicitud:  3 Costo:  5 Configuracion final:  [3, 4, 0, 1, 2]\n",
      "Configuracion inicial:  [3, 4, 0, 1, 2]\n",
      "Solicitud:  2 Costo:  5 Configuracion final:  [2, 3, 4, 0, 1]\n",
      "Configuracion inicial:  [2, 3, 4, 0, 1]\n",
      "Solicitud:  1 Costo:  5 Configuracion final:  [1, 2, 3, 4, 0]\n",
      "Configuracion inicial:  [1, 2, 3, 4, 0]\n",
      "Solicitud:  0 Costo:  5 Configuracion final:  [0, 1, 2, 3, 4]\n",
      "Configuracion inicial:  [0, 1, 2, 3, 4]\n",
      "Solicitud:  1 Costo:  2 Configuracion final:  [1, 0, 2, 3, 4]\n",
      "Configuracion inicial:  [1, 0, 2, 3, 4]\n",
      "Solicitud:  2 Costo:  3 Configuracion final:  [2, 1, 0, 3, 4]\n",
      "Configuracion inicial:  [2, 1, 0, 3, 4]\n",
      "Solicitud:  3 Costo:  4 Configuracion final:  [3, 2, 1, 0, 4]\n",
      "Configuracion inicial:  [3, 2, 1, 0, 4]\n",
      "Solicitud:  4 Costo:  5 Configuracion final:  [4, 3, 2, 1, 0]\n",
      "Configuracion inicial:  [4, 3, 2, 1, 0]\n",
      "Solicitud:  3 Costo:  2 Configuracion final:  [3, 4, 2, 1, 0]\n",
      "Configuracion inicial:  [3, 4, 2, 1, 0]\n",
      "Solicitud:  2 Costo:  3 Configuracion final:  [2, 3, 4, 1, 0]\n",
      "Configuracion inicial:  [2, 3, 4, 1, 0]\n",
      "Solicitud:  1 Costo:  4 Configuracion final:  [1, 2, 3, 4, 0]\n",
      "Configuracion inicial:  [1, 2, 3, 4, 0]\n",
      "Solicitud:  0 Costo:  5 Configuracion final:  [0, 1, 2, 3, 4]\n",
      "Configuracion inicial:  [0, 1, 2, 3, 4]\n",
      "Solicitud:  1 Costo:  2 Configuracion final:  [1, 0, 2, 3, 4]\n",
      "Configuracion inicial:  [1, 0, 2, 3, 4]\n",
      "Solicitud:  2 Costo:  3 Configuracion final:  [2, 1, 0, 3, 4]\n",
      "Configuracion inicial:  [2, 1, 0, 3, 4]\n",
      "Solicitud:  3 Costo:  4 Configuracion final:  [3, 2, 1, 0, 4]\n",
      "Configuracion inicial:  [3, 2, 1, 0, 4]\n",
      "Solicitud:  4 Costo:  5 Configuracion final:  [4, 3, 2, 1, 0]\n",
      "Costo total:  67\n"
     ]
    }
   ],
   "source": [
    "tabla= [0, 1, 2, 3, 4]\n",
    "seq= [4, 3, 2, 1, 0, 1, 2, 3, 4, 3, 2, 1, 0, 1, 2, 3, 4]\n",
    "n= []\n",
    "\n",
    "def MTF1(listTabla,listSeq):\n",
    "  for i in listSeq:\n",
    "    print(\"Configuracion inicial: \", tabla)\n",
    "    x = tabla.index(i)\n",
    "    tabla.insert(0, tabla.pop(x))\n",
    "    y = x + 1\n",
    "    n.append(y)\n",
    "    print(\"Solicitud: \", i, \"Costo: \", y, \"Configuracion final: \", tabla)\n",
    "MTF1(tabla,seq)\n",
    "print(\"Costo total: \", sum(n))"
   ]
  },
  {
   "cell_type": "markdown",
   "id": "ce4fcd07",
   "metadata": {},
   "source": [
    "c. ¿Para  qué  secuencia  de 20 solicitudesse  obtiene  el  mínimo  costo total  de  acceso  utilizando  el algoritmo MTF para la configuración 0, 1, 2, 3, 4?¿Cuál sería ese costo total de acceso?"
   ]
  },
  {
   "cell_type": "code",
   "execution_count": 8,
   "id": "e795f5a5",
   "metadata": {},
   "outputs": [
    {
     "name": "stdout",
     "output_type": "stream",
     "text": [
      "Configuracion inicial:  [0, 1, 2, 3, 4]\n",
      "Solicitud:  0 Costo:  1 Configuracion final:  [0, 1, 2, 3, 4]\n",
      "Configuracion inicial:  [0, 1, 2, 3, 4]\n",
      "Solicitud:  0 Costo:  1 Configuracion final:  [0, 1, 2, 3, 4]\n",
      "Configuracion inicial:  [0, 1, 2, 3, 4]\n",
      "Solicitud:  0 Costo:  1 Configuracion final:  [0, 1, 2, 3, 4]\n",
      "Configuracion inicial:  [0, 1, 2, 3, 4]\n",
      "Solicitud:  0 Costo:  1 Configuracion final:  [0, 1, 2, 3, 4]\n",
      "Configuracion inicial:  [0, 1, 2, 3, 4]\n",
      "Solicitud:  0 Costo:  1 Configuracion final:  [0, 1, 2, 3, 4]\n",
      "Configuracion inicial:  [0, 1, 2, 3, 4]\n",
      "Solicitud:  0 Costo:  1 Configuracion final:  [0, 1, 2, 3, 4]\n",
      "Configuracion inicial:  [0, 1, 2, 3, 4]\n",
      "Solicitud:  0 Costo:  1 Configuracion final:  [0, 1, 2, 3, 4]\n",
      "Configuracion inicial:  [0, 1, 2, 3, 4]\n",
      "Solicitud:  0 Costo:  1 Configuracion final:  [0, 1, 2, 3, 4]\n",
      "Configuracion inicial:  [0, 1, 2, 3, 4]\n",
      "Solicitud:  0 Costo:  1 Configuracion final:  [0, 1, 2, 3, 4]\n",
      "Configuracion inicial:  [0, 1, 2, 3, 4]\n",
      "Solicitud:  0 Costo:  1 Configuracion final:  [0, 1, 2, 3, 4]\n",
      "Configuracion inicial:  [0, 1, 2, 3, 4]\n",
      "Solicitud:  0 Costo:  1 Configuracion final:  [0, 1, 2, 3, 4]\n",
      "Configuracion inicial:  [0, 1, 2, 3, 4]\n",
      "Solicitud:  0 Costo:  1 Configuracion final:  [0, 1, 2, 3, 4]\n",
      "Configuracion inicial:  [0, 1, 2, 3, 4]\n",
      "Solicitud:  0 Costo:  1 Configuracion final:  [0, 1, 2, 3, 4]\n",
      "Configuracion inicial:  [0, 1, 2, 3, 4]\n",
      "Solicitud:  0 Costo:  1 Configuracion final:  [0, 1, 2, 3, 4]\n",
      "Configuracion inicial:  [0, 1, 2, 3, 4]\n",
      "Solicitud:  0 Costo:  1 Configuracion final:  [0, 1, 2, 3, 4]\n",
      "Configuracion inicial:  [0, 1, 2, 3, 4]\n",
      "Solicitud:  0 Costo:  1 Configuracion final:  [0, 1, 2, 3, 4]\n",
      "Configuracion inicial:  [0, 1, 2, 3, 4]\n",
      "Solicitud:  0 Costo:  1 Configuracion final:  [0, 1, 2, 3, 4]\n",
      "Configuracion inicial:  [0, 1, 2, 3, 4]\n",
      "Solicitud:  0 Costo:  1 Configuracion final:  [0, 1, 2, 3, 4]\n",
      "Configuracion inicial:  [0, 1, 2, 3, 4]\n",
      "Solicitud:  0 Costo:  1 Configuracion final:  [0, 1, 2, 3, 4]\n",
      "Configuracion inicial:  [0, 1, 2, 3, 4]\n",
      "Solicitud:  0 Costo:  1 Configuracion final:  [0, 1, 2, 3, 4]\n",
      "Costo total:  20\n"
     ]
    }
   ],
   "source": [
    "tabla= [0, 1, 2, 3, 4]\n",
    "seq= [0, 0, 0, 0, 0, 0, 0, 0, 0, 0, 0, 0, 0, 0, 0, 0, 0, 0, 0, 0]\n",
    "n= []\n",
    "\n",
    "def MTF2(listTabla,listSeq):\n",
    "  for i in listSeq:\n",
    "    print(\"Configuracion inicial: \", tabla)\n",
    "    x = tabla.index(i)\n",
    "    tabla.insert(0, tabla.pop(x))\n",
    "    y = x + 1\n",
    "    n.append(y)\n",
    "    print(\"Solicitud: \", i, \"Costo: \", y, \"Configuracion final: \", tabla)\n",
    "MTF2(tabla,seq)\n",
    "print(\"Costo total: \", sum(n))"
   ]
  },
  {
   "cell_type": "markdown",
   "id": "8ccb7504",
   "metadata": {},
   "source": [
    "d. ¿Para qué secuencia de20solicitudesse obtiene el peor de los casos utilizando el algoritmo MTF para la configuración 0, 1, 2, 3, 4? ¿Cuál sería ese costo total de acceso?"
   ]
  },
  {
   "cell_type": "code",
   "execution_count": 9,
   "id": "1954659d",
   "metadata": {},
   "outputs": [
    {
     "name": "stdout",
     "output_type": "stream",
     "text": [
      "Configuracion inicial:  [0, 1, 2, 3, 4]\n",
      "Solicitud:  4 Costo:  5 Configuracion final:  [4, 0, 1, 2, 3]\n",
      "Configuracion inicial:  [4, 0, 1, 2, 3]\n",
      "Solicitud:  3 Costo:  5 Configuracion final:  [3, 4, 0, 1, 2]\n",
      "Configuracion inicial:  [3, 4, 0, 1, 2]\n",
      "Solicitud:  2 Costo:  5 Configuracion final:  [2, 3, 4, 0, 1]\n",
      "Configuracion inicial:  [2, 3, 4, 0, 1]\n",
      "Solicitud:  1 Costo:  5 Configuracion final:  [1, 2, 3, 4, 0]\n",
      "Configuracion inicial:  [1, 2, 3, 4, 0]\n",
      "Solicitud:  0 Costo:  5 Configuracion final:  [0, 1, 2, 3, 4]\n",
      "Configuracion inicial:  [0, 1, 2, 3, 4]\n",
      "Solicitud:  4 Costo:  5 Configuracion final:  [4, 0, 1, 2, 3]\n",
      "Configuracion inicial:  [4, 0, 1, 2, 3]\n",
      "Solicitud:  3 Costo:  5 Configuracion final:  [3, 4, 0, 1, 2]\n",
      "Configuracion inicial:  [3, 4, 0, 1, 2]\n",
      "Solicitud:  2 Costo:  5 Configuracion final:  [2, 3, 4, 0, 1]\n",
      "Configuracion inicial:  [2, 3, 4, 0, 1]\n",
      "Solicitud:  1 Costo:  5 Configuracion final:  [1, 2, 3, 4, 0]\n",
      "Configuracion inicial:  [1, 2, 3, 4, 0]\n",
      "Solicitud:  0 Costo:  5 Configuracion final:  [0, 1, 2, 3, 4]\n",
      "Configuracion inicial:  [0, 1, 2, 3, 4]\n",
      "Solicitud:  4 Costo:  5 Configuracion final:  [4, 0, 1, 2, 3]\n",
      "Configuracion inicial:  [4, 0, 1, 2, 3]\n",
      "Solicitud:  3 Costo:  5 Configuracion final:  [3, 4, 0, 1, 2]\n",
      "Configuracion inicial:  [3, 4, 0, 1, 2]\n",
      "Solicitud:  2 Costo:  5 Configuracion final:  [2, 3, 4, 0, 1]\n",
      "Configuracion inicial:  [2, 3, 4, 0, 1]\n",
      "Solicitud:  1 Costo:  5 Configuracion final:  [1, 2, 3, 4, 0]\n",
      "Configuracion inicial:  [1, 2, 3, 4, 0]\n",
      "Solicitud:  0 Costo:  5 Configuracion final:  [0, 1, 2, 3, 4]\n",
      "Configuracion inicial:  [0, 1, 2, 3, 4]\n",
      "Solicitud:  4 Costo:  5 Configuracion final:  [4, 0, 1, 2, 3]\n",
      "Configuracion inicial:  [4, 0, 1, 2, 3]\n",
      "Solicitud:  3 Costo:  5 Configuracion final:  [3, 4, 0, 1, 2]\n",
      "Configuracion inicial:  [3, 4, 0, 1, 2]\n",
      "Solicitud:  2 Costo:  5 Configuracion final:  [2, 3, 4, 0, 1]\n",
      "Configuracion inicial:  [2, 3, 4, 0, 1]\n",
      "Solicitud:  1 Costo:  5 Configuracion final:  [1, 2, 3, 4, 0]\n",
      "Configuracion inicial:  [1, 2, 3, 4, 0]\n",
      "Solicitud:  0 Costo:  5 Configuracion final:  [0, 1, 2, 3, 4]\n",
      "Costo total:  100\n"
     ]
    }
   ],
   "source": [
    "tabla= [0, 1, 2, 3, 4]\n",
    "seq= [4, 3, 2, 1, 0, 4, 3, 2, 1, 0, 4, 3, 2, 1, 0, 4, 3, 2, 1, 0]\n",
    "n= []\n",
    "\n",
    "def MTF3(listTabla,listSeq):\n",
    "  for i in listSeq:\n",
    "    print(\"Configuracion inicial: \", tabla)\n",
    "    x = tabla.index(i)\n",
    "    tabla.insert(0, tabla.pop(x))\n",
    "    y = x + 1\n",
    "    n.append(y)\n",
    "    print(\"Solicitud: \", i, \"Costo: \", y, \"Configuracion final: \", tabla)\n",
    "MTF3(tabla,seq)\n",
    "print(\"Costo total: \", sum(n))"
   ]
  },
  {
   "cell_type": "markdown",
   "id": "32cea5a1",
   "metadata": {},
   "source": [
    "Secuencia de sets de 4,3,2,1,0 al llenar los 20 espacios o numeros"
   ]
  },
  {
   "cell_type": "markdown",
   "id": "b17b2c8f",
   "metadata": {},
   "source": [
    "e. Calcular el costo de acceso utilizando el algoritmo MTF paraa.Lista de configuración: 0, 1, 2, 3, 4b.Secuencia de solicitudes:2, 2, 2, 2, 2, 2, 2, 2, 2, 2, 2, 2, 2, 2, 2, 2, 2, 2, 2, 2"
   ]
  },
  {
   "cell_type": "code",
   "execution_count": 10,
   "id": "44f019db",
   "metadata": {},
   "outputs": [
    {
     "name": "stdout",
     "output_type": "stream",
     "text": [
      "Configuracion inicial:  [0, 1, 2, 3, 4]\n",
      "Solicitud:  2 Costo:  3 Configuracion final:  [2, 0, 1, 3, 4]\n",
      "Configuracion inicial:  [2, 0, 1, 3, 4]\n",
      "Solicitud:  2 Costo:  1 Configuracion final:  [2, 0, 1, 3, 4]\n",
      "Configuracion inicial:  [2, 0, 1, 3, 4]\n",
      "Solicitud:  2 Costo:  1 Configuracion final:  [2, 0, 1, 3, 4]\n",
      "Configuracion inicial:  [2, 0, 1, 3, 4]\n",
      "Solicitud:  2 Costo:  1 Configuracion final:  [2, 0, 1, 3, 4]\n",
      "Configuracion inicial:  [2, 0, 1, 3, 4]\n",
      "Solicitud:  2 Costo:  1 Configuracion final:  [2, 0, 1, 3, 4]\n",
      "Configuracion inicial:  [2, 0, 1, 3, 4]\n",
      "Solicitud:  2 Costo:  1 Configuracion final:  [2, 0, 1, 3, 4]\n",
      "Configuracion inicial:  [2, 0, 1, 3, 4]\n",
      "Solicitud:  2 Costo:  1 Configuracion final:  [2, 0, 1, 3, 4]\n",
      "Configuracion inicial:  [2, 0, 1, 3, 4]\n",
      "Solicitud:  2 Costo:  1 Configuracion final:  [2, 0, 1, 3, 4]\n",
      "Configuracion inicial:  [2, 0, 1, 3, 4]\n",
      "Solicitud:  2 Costo:  1 Configuracion final:  [2, 0, 1, 3, 4]\n",
      "Configuracion inicial:  [2, 0, 1, 3, 4]\n",
      "Solicitud:  2 Costo:  1 Configuracion final:  [2, 0, 1, 3, 4]\n",
      "Configuracion inicial:  [2, 0, 1, 3, 4]\n",
      "Solicitud:  2 Costo:  1 Configuracion final:  [2, 0, 1, 3, 4]\n",
      "Configuracion inicial:  [2, 0, 1, 3, 4]\n",
      "Solicitud:  2 Costo:  1 Configuracion final:  [2, 0, 1, 3, 4]\n",
      "Configuracion inicial:  [2, 0, 1, 3, 4]\n",
      "Solicitud:  2 Costo:  1 Configuracion final:  [2, 0, 1, 3, 4]\n",
      "Configuracion inicial:  [2, 0, 1, 3, 4]\n",
      "Solicitud:  2 Costo:  1 Configuracion final:  [2, 0, 1, 3, 4]\n",
      "Configuracion inicial:  [2, 0, 1, 3, 4]\n",
      "Solicitud:  2 Costo:  1 Configuracion final:  [2, 0, 1, 3, 4]\n",
      "Configuracion inicial:  [2, 0, 1, 3, 4]\n",
      "Solicitud:  2 Costo:  1 Configuracion final:  [2, 0, 1, 3, 4]\n",
      "Configuracion inicial:  [2, 0, 1, 3, 4]\n",
      "Solicitud:  2 Costo:  1 Configuracion final:  [2, 0, 1, 3, 4]\n",
      "Configuracion inicial:  [2, 0, 1, 3, 4]\n",
      "Solicitud:  2 Costo:  1 Configuracion final:  [2, 0, 1, 3, 4]\n",
      "Configuracion inicial:  [2, 0, 1, 3, 4]\n",
      "Solicitud:  2 Costo:  1 Configuracion final:  [2, 0, 1, 3, 4]\n",
      "Configuracion inicial:  [2, 0, 1, 3, 4]\n",
      "Solicitud:  2 Costo:  1 Configuracion final:  [2, 0, 1, 3, 4]\n",
      "Costo total a) 22\n",
      "Costo total b) 23\n"
     ]
    }
   ],
   "source": [
    "n = []\n",
    "nn = []\n",
    "a = [0, 1, 2, 3, 4]\n",
    "b = [2, 2, 2, 2, 2, 2, 2, 2, 2, 2, 2, 2, 2, 2, 2, 2, 2, 2, 2, 2]\n",
    "c = [0, 1, 2, 3, 4]\n",
    "w = [3, 3, 3, 3, 3, 3, 3, 3, 3, 3, 3, 3, 3, 3, 3, 3, 3, 3, 3, 3]\n",
    "def MTFE4(lista, listb):\n",
    "  for i in listb:\n",
    "    print(\"Configuracion inicial: \", a)\n",
    "    x = a.index(i)\n",
    "    a.insert(0, a.pop(x))\n",
    "    y = x + 1\n",
    "    n.append(y)\n",
    "    print(\"Solicitud: \", i, \"Costo: \", y, \"Configuracion final: \", a)\n",
    "MTFE4(a, b)\n",
    "print(\"Costo total a)\", sum(n))\n",
    "\n",
    "def MTFE5(listc, listw):\n",
    "  for i in listw:\n",
    "    x = c.index(i)\n",
    "    c.insert(0, c.pop(x))\n",
    "    y = x + 1\n",
    "    nn.append(y)\n",
    "MTFE5(c, w)\n",
    "print(\"Costo total b)\", sum(nn))"
   ]
  },
  {
   "cell_type": "markdown",
   "id": "72490b59",
   "metadata": {},
   "source": [
    "n+k-1"
   ]
  },
  {
   "cell_type": "markdown",
   "id": "ad9d1101",
   "metadata": {},
   "source": [
    "f. Usando la misma lista de configuración que en los incisos anteriores, considere las secuencias de solicitudes  que  producen los  costos  máximos  y  mínimos  usando  MTF.  "
   ]
  },
  {
   "cell_type": "code",
   "execution_count": 12,
   "id": "a3ab9bdb",
   "metadata": {},
   "outputs": [
    {
     "name": "stdout",
     "output_type": "stream",
     "text": [
      "Configuracion inicial:  [0, 1, 2, 3, 4]\n",
      "Solicitud:  4 Costo:  5 Configuracion final:  [4, 0, 1, 2, 3]\n",
      "Solicitud:  4 Costo:  5 Configuracion final:  [4, 0, 1, 2, 3]\n",
      "Configuracion inicial:  [4, 0, 1, 2, 3]\n",
      "Solicitud:  3 Costo:  5 Configuracion final:  [3, 4, 0, 1, 2]\n",
      "Solicitud:  3 Costo:  5 Configuracion final:  [3, 4, 0, 1, 2]\n",
      "Configuracion inicial:  [3, 4, 0, 1, 2]\n",
      "Solicitud:  2 Costo:  5 Configuracion final:  [3, 4, 0, 1, 2]\n",
      "Configuracion inicial:  [3, 4, 0, 1, 2]\n",
      "Solicitud:  1 Costo:  4 Configuracion final:  [3, 4, 0, 1, 2]\n",
      "Configuracion inicial:  [3, 4, 0, 1, 2]\n",
      "Solicitud:  0 Costo:  3 Configuracion final:  [3, 4, 0, 1, 2]\n",
      "Configuracion inicial:  [3, 4, 0, 1, 2]\n",
      "Solicitud:  4 Costo:  2 Configuracion final:  [3, 4, 0, 1, 2]\n",
      "Configuracion inicial:  [3, 4, 0, 1, 2]\n",
      "Solicitud:  3 Costo:  1 Configuracion final:  [3, 4, 0, 1, 2]\n",
      "Configuracion inicial:  [3, 4, 0, 1, 2]\n",
      "Solicitud:  2 Costo:  5 Configuracion final:  [3, 4, 0, 1, 2]\n",
      "Configuracion inicial:  [3, 4, 0, 1, 2]\n",
      "Solicitud:  1 Costo:  4 Configuracion final:  [3, 4, 0, 1, 2]\n",
      "Configuracion inicial:  [3, 4, 0, 1, 2]\n",
      "Solicitud:  0 Costo:  3 Configuracion final:  [3, 4, 0, 1, 2]\n",
      "Configuracion inicial:  [3, 4, 0, 1, 2]\n",
      "Solicitud:  4 Costo:  2 Configuracion final:  [3, 4, 0, 1, 2]\n",
      "Configuracion inicial:  [3, 4, 0, 1, 2]\n",
      "Solicitud:  3 Costo:  1 Configuracion final:  [3, 4, 0, 1, 2]\n",
      "Configuracion inicial:  [3, 4, 0, 1, 2]\n",
      "Solicitud:  2 Costo:  5 Configuracion final:  [3, 4, 0, 1, 2]\n",
      "Configuracion inicial:  [3, 4, 0, 1, 2]\n",
      "Solicitud:  1 Costo:  4 Configuracion final:  [3, 4, 0, 1, 2]\n",
      "Configuracion inicial:  [3, 4, 0, 1, 2]\n",
      "Solicitud:  0 Costo:  3 Configuracion final:  [3, 4, 0, 1, 2]\n",
      "Configuracion inicial:  [3, 4, 0, 1, 2]\n",
      "Solicitud:  4 Costo:  2 Configuracion final:  [3, 4, 0, 1, 2]\n",
      "Configuracion inicial:  [3, 4, 0, 1, 2]\n",
      "Solicitud:  3 Costo:  1 Configuracion final:  [3, 4, 0, 1, 2]\n",
      "Configuracion inicial:  [3, 4, 0, 1, 2]\n",
      "Solicitud:  2 Costo:  5 Configuracion final:  [3, 4, 0, 1, 2]\n",
      "Configuracion inicial:  [3, 4, 0, 1, 2]\n",
      "Solicitud:  1 Costo:  4 Configuracion final:  [3, 4, 0, 1, 2]\n",
      "Configuracion inicial:  [3, 4, 0, 1, 2]\n",
      "Solicitud:  0 Costo:  3 Configuracion final:  [3, 4, 0, 1, 2]\n",
      "Costo total:  77\n",
      "Configuracion inicial:  [3, 4, 0, 1, 2]\n",
      "Solicitud:  0 Costo:  3 Configuracion final:  [3, 4, 0, 1, 2]\n",
      "Configuracion inicial:  [3, 4, 0, 1, 2]\n",
      "Solicitud:  0 Costo:  3 Configuracion final:  [3, 4, 0, 1, 2]\n",
      "Configuracion inicial:  [3, 4, 0, 1, 2]\n",
      "Solicitud:  0 Costo:  3 Configuracion final:  [3, 4, 0, 1, 2]\n",
      "Configuracion inicial:  [3, 4, 0, 1, 2]\n",
      "Solicitud:  0 Costo:  3 Configuracion final:  [3, 4, 0, 1, 2]\n",
      "Configuracion inicial:  [3, 4, 0, 1, 2]\n",
      "Solicitud:  0 Costo:  3 Configuracion final:  [3, 4, 0, 1, 2]\n",
      "Configuracion inicial:  [3, 4, 0, 1, 2]\n",
      "Solicitud:  0 Costo:  3 Configuracion final:  [3, 4, 0, 1, 2]\n",
      "Configuracion inicial:  [3, 4, 0, 1, 2]\n",
      "Solicitud:  0 Costo:  3 Configuracion final:  [3, 4, 0, 1, 2]\n",
      "Configuracion inicial:  [3, 4, 0, 1, 2]\n",
      "Solicitud:  0 Costo:  3 Configuracion final:  [3, 4, 0, 1, 2]\n",
      "Configuracion inicial:  [3, 4, 0, 1, 2]\n",
      "Solicitud:  0 Costo:  3 Configuracion final:  [3, 4, 0, 1, 2]\n",
      "Configuracion inicial:  [3, 4, 0, 1, 2]\n",
      "Solicitud:  0 Costo:  3 Configuracion final:  [3, 4, 0, 1, 2]\n",
      "Configuracion inicial:  [3, 4, 0, 1, 2]\n",
      "Solicitud:  0 Costo:  3 Configuracion final:  [3, 4, 0, 1, 2]\n",
      "Configuracion inicial:  [3, 4, 0, 1, 2]\n",
      "Solicitud:  0 Costo:  3 Configuracion final:  [3, 4, 0, 1, 2]\n",
      "Configuracion inicial:  [3, 4, 0, 1, 2]\n",
      "Solicitud:  0 Costo:  3 Configuracion final:  [3, 4, 0, 1, 2]\n",
      "Configuracion inicial:  [3, 4, 0, 1, 2]\n",
      "Solicitud:  0 Costo:  3 Configuracion final:  [3, 4, 0, 1, 2]\n",
      "Configuracion inicial:  [3, 4, 0, 1, 2]\n",
      "Solicitud:  0 Costo:  3 Configuracion final:  [3, 4, 0, 1, 2]\n",
      "Configuracion inicial:  [3, 4, 0, 1, 2]\n",
      "Solicitud:  0 Costo:  3 Configuracion final:  [3, 4, 0, 1, 2]\n",
      "Configuracion inicial:  [3, 4, 0, 1, 2]\n",
      "Solicitud:  0 Costo:  3 Configuracion final:  [3, 4, 0, 1, 2]\n",
      "Configuracion inicial:  [3, 4, 0, 1, 2]\n",
      "Solicitud:  0 Costo:  3 Configuracion final:  [3, 4, 0, 1, 2]\n",
      "Configuracion inicial:  [3, 4, 0, 1, 2]\n",
      "Solicitud:  0 Costo:  3 Configuracion final:  [3, 4, 0, 1, 2]\n",
      "Configuracion inicial:  [3, 4, 0, 1, 2]\n",
      "Solicitud:  0 Costo:  3 Configuracion final:  [3, 4, 0, 1, 2]\n",
      "Costo total:  60\n"
     ]
    }
   ],
   "source": [
    "w = [0, 1, 2, 3, 4]\n",
    "p = [4, 3, 2, 1, 0, 4, 3, 2, 1, 0, 4, 3, 2, 1, 0, 4, 3, 2, 1, 0]\n",
    "c = [0, 0, 0, 0, 0, 0, 0, 0, 0, 0, 0, 0, 0, 0, 0, 0, 0, 0, 0, 0]\n",
    "n = []\n",
    "def solu(listw, listp):\n",
    "  for j in range(len(listp)):\n",
    "    print(\"Configuracion inicial: \", w)\n",
    "    x = w.index(listp[j])\n",
    "    done = x+j+1\n",
    "    if done > len(listw):\n",
    "      done = len(listw)\n",
    "    for i in range(j+1, done):\n",
    "      if b[j] == listp[i]:\n",
    "        w.insert(0, w.pop(x))\n",
    "        y = x + 1\n",
    "        n.append(y)\n",
    "        print(\"Solicitud: \", listp[j], \"Costo: \", y, \"Configuracion final: \", w)\n",
    "    y = x + 1\n",
    "    n.append(y)\n",
    "    print(\"Solicitud: \", listp[j], \"Costo: \", y, \"Configuracion final: \", w)\n",
    "  print(\"Costo total: \", sum(n))\n",
    "  n.clear()\n",
    "\n",
    "solu(w, p)\n",
    "solu(w, c)"
   ]
  },
  {
   "cell_type": "markdown",
   "id": "c2c75243",
   "metadata": {},
   "source": [
    "g. ¿Cuál es la diferencia entre un algoritmo onliney uno offline?¿Cambiarían en algo su desempeñoo  su  comportamiento MTF e  IMTF  si  seusaran  como  algoritmos online(considere  el  efecto  de diferentes secuencias de solicitudes)?I"
   ]
  },
  {
   "cell_type": "markdown",
   "id": "f6398f45",
   "metadata": {},
   "source": [
    "El algoritmo online procesa la entrada paso por paso aun sin tenerla desde el inicio, mientras que los offline tiene todos los datos del problema desde el inicio pues es neceario para resolver.  \n",
    "Si cambiaría el desempeño porque al ser online no se tendria la secuencia de solicitudes desde el inicio, necesitaria tener el i-1 para cumplir.  \n",
    "En clase vimos que el Algorimo greedy puede cumplir con dicho requisito"
   ]
  },
  {
   "cell_type": "code",
   "execution_count": null,
   "id": "04001c25",
   "metadata": {},
   "outputs": [],
   "source": []
  }
 ],
 "metadata": {
  "kernelspec": {
   "display_name": "Python 3",
   "language": "python",
   "name": "python3"
  },
  "language_info": {
   "codemirror_mode": {
    "name": "ipython",
    "version": 3
   },
   "file_extension": ".py",
   "mimetype": "text/x-python",
   "name": "python",
   "nbconvert_exporter": "python",
   "pygments_lexer": "ipython3",
   "version": "3.8.8"
  }
 },
 "nbformat": 4,
 "nbformat_minor": 5
}
